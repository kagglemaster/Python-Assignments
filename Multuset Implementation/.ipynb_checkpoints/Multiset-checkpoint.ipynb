{
 "cells": [
  {
   "cell_type": "raw",
   "id": "1fe6cde3",
   "metadata": {},
   "source": [
    "1. Python: Multiset Implementation\n",
    "A multiset is the same as a set except that an element might occur more than once in a multiset. Implement a multiset data structure in Python. Given a template for the Multiset class, implement 4 methods:\n",
    "• add(self, val): adds val to the multiset\n",
    "• remove(self, val): if val is in the multiset, removes val from the multiset; otherwise, do nothing\n",
    "• _contains_(self, val): returns True if val is in the multiset; otherwise, it returns False\n",
    "• _len_(self): returns the number of elements in the multiset\n",
    "Additional methods are allowed as necessary.\n",
    "The implementations of the 4 required methods will be tested by a provided code stub on several input files. Each input file contains several operations, each of one of the below types. Values returned by query and size operations are appended to a result list, which is printed as the output by the provided code stub.\n",
    "• add val: calls add(val) on the Multiset instance\n",
    "• remove val: calls remove(val) on the Multiset instance\n",
    "query val: appends the result of expression val in m, where m is an instance of Multiset, and appends the value of that expression to the result list\n",
    "• size: calls len(m), where mis an instance of Multiset, and appends the returned value to the result list\n",
    "Complete the class Multiset in the editor below with the 4 methods given above (add, remove, _contains, and_len_)."
   ]
  },
  {
   "cell_type": "code",
   "execution_count": 2,
   "id": "ab483eee",
   "metadata": {},
   "outputs": [],
   "source": [
    "class Multiset:\n",
    "    def __init__(self):\n",
    "        self.mset = []\n",
    "        \n",
    "    def add(self, val):\n",
    "        self.mset.append(val)\n",
    "    \n",
    "    def remove(self, val):\n",
    "        if val in self.mset:\n",
    "            self.mset.remove(val)\n",
    "        \n",
    "    def __contains__(self, val):\n",
    "        if val in self.mset:\n",
    "            return True\n",
    "        else:\n",
    "            return False\n",
    "        \n",
    "    def __len__(self):\n",
    "        return len(self.mset)"
   ]
  }
 ],
 "metadata": {
  "kernelspec": {
   "display_name": "Python 3 (ipykernel)",
   "language": "python",
   "name": "python3"
  },
  "language_info": {
   "codemirror_mode": {
    "name": "ipython",
    "version": 3
   },
   "file_extension": ".py",
   "mimetype": "text/x-python",
   "name": "python",
   "nbconvert_exporter": "python",
   "pygments_lexer": "ipython3",
   "version": "3.11.5"
  }
 },
 "nbformat": 4,
 "nbformat_minor": 5
}
