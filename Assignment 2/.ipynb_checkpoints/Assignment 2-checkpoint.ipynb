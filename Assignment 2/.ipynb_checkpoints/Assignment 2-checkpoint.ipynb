{
 "cells": [
  {
   "cell_type": "markdown",
   "id": "115dca10",
   "metadata": {},
   "source": [
    "Scenario 1: Grocery Shopping List ---\n",
    "You are creating a program to manage a grocery shopping list. Users should be able to add items,\n",
    "remove items, and display the current list."
   ]
  },
  {
   "cell_type": "code",
   "execution_count": 1,
   "id": "4a2f1b87",
   "metadata": {},
   "outputs": [
    {
     "name": "stdout",
     "output_type": "stream",
     "text": [
      "Enter your items (insert comma after every item): Mango, Orange\n",
      "Enter the item to remove it from the grocery list: Mango\n",
      "[' Orange']\n"
     ]
    }
   ],
   "source": [
    "grocery_lst = []\n",
    "user = input(\"Enter your items (insert comma after every item): \").split(',')\n",
    "\n",
    "for item in user:\n",
    "    grocery_lst.append(item)\n",
    "\n",
    "reassure = input(\"Do you want to delete any item(s) from the list (Y/N): \")\n",
    "\n",
    "if reassure == 'Y':\n",
    "    delete = input(\"Enter the item to remove it from the grocery list: \")\n",
    "    if delete in grocery_lst:\n",
    "        grocery_lst.remove(delete)\n",
    "        print(grocery_lst)\n",
    "    else:\n",
    "        print(f\"{delete} is not in the list.\")\n",
    "else:\n",
    "    print(grocery_lst)"
   ]
  },
  {
   "cell_type": "markdown",
   "id": "9209ad40",
   "metadata": {},
   "source": [
    "Scenario 2: Student Grades\n",
    "You are managing student grades using a dictionary. You need to calculate the average grade.take\n",
    "atleast 5 Students grades & then calculate the average."
   ]
  },
  {
   "cell_type": "code",
   "execution_count": 10,
   "id": "5122dd00",
   "metadata": {},
   "outputs": [
    {
     "name": "stdout",
     "output_type": "stream",
     "text": [
      "13.8\n"
     ]
    }
   ],
   "source": [
    "Maths = {\n",
    "    \"Ali\":78,\n",
    "    \"Qasim\":88,\n",
    "    \"Ahmed\":84,\n",
    "    \"Ashraf\":79,\n",
    "    \"Usman\":82\n",
    "}\n",
    "x = Maths.values()\n",
    "print(f\"{sum(x)/5} is the average marks in Maths\")"
   ]
  },
  {
   "cell_type": "markdown",
   "id": "9d5dd3bc",
   "metadata": {},
   "source": [
    "Scenario 3: Word Frequency Counter\n",
    "You are given a list of words, and you need to count the frequency of each word.\n",
    "word_list = [\"apple\", \"banana\", \"apple\", \"orange\", \"banana\", \"grape\", \"apple\"]"
   ]
  },
  {
   "cell_type": "code",
   "execution_count": 46,
   "id": "b11b77d5",
   "metadata": {},
   "outputs": [
    {
     "name": "stdout",
     "output_type": "stream",
     "text": [
      "apple: 3\n",
      "banana: 2\n",
      "apple: 1\n",
      "orange: 1\n"
     ]
    }
   ],
   "source": [
    "word_list = [\"apple\", \"banana\", \"apple\", \"orange\", \"banana\", \"grape\", \"apple\"]\n",
    "\n",
    "print(f\"{word_list[0]}: {word_list.count('apple')}\")\n",
    "print(f\"{word_list[1]}: {word_list.count('banana')}\")\n",
    "print(f\"{word_list[2]}: {word_list.count('orange')}\")\n",
    "print(f\"{word_list[3]}: {word_list.count('grape')}\")"
   ]
  },
  {
   "cell_type": "raw",
   "id": "48cef754",
   "metadata": {},
   "source": [
    "Scenario 3: Password Strength Checker\n",
    "You are creating a program to check the strength of passwords based on certain criteria.\n",
    "• Password should be at least 8 characters long.\n",
    "• Password should contain at least one digit.\n",
    "• Password should contain at least one letter"
   ]
  },
  {
   "cell_type": "code",
   "execution_count": 6,
   "id": "9b4ca49f",
   "metadata": {},
   "outputs": [
    {
     "name": "stdout",
     "output_type": "stream",
     "text": [
      "Create your Password: 98udfg98u8fdgn9834\n",
      "Password meets the criteria.\n"
     ]
    }
   ],
   "source": [
    "user_password = input(\"Create your Password: \")\n",
    "\n",
    "if len(user_password) >= 8:\n",
    "    if not user_password.isdigit():\n",
    "        if not user_password.isalpha():\n",
    "            print(\"Password meets the criteria.\")\n",
    "        else:\n",
    "            print(\"Password should contain at least one digit.\")\n",
    "    else:\n",
    "        print(\"Password should contain at least one letter.\")\n",
    "else:\n",
    "    print(\"Password should be at least 8 characters long.\")"
   ]
  },
  {
   "cell_type": "code",
   "execution_count": null,
   "id": "ade0ca34",
   "metadata": {},
   "outputs": [],
   "source": []
  }
 ],
 "metadata": {
  "kernelspec": {
   "display_name": "Python 3 (ipykernel)",
   "language": "python",
   "name": "python3"
  },
  "language_info": {
   "codemirror_mode": {
    "name": "ipython",
    "version": 3
   },
   "file_extension": ".py",
   "mimetype": "text/x-python",
   "name": "python",
   "nbconvert_exporter": "python",
   "pygments_lexer": "ipython3",
   "version": "3.11.5"
  }
 },
 "nbformat": 4,
 "nbformat_minor": 5
}
