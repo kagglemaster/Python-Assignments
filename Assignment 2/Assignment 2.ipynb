{
 "cells": [
  {
   "cell_type": "markdown",
   "id": "305ee7c3",
   "metadata": {},
   "source": [
    "Scenario 1: Grocery Shopping List ---\n",
    "You are creating a program to manage a grocery shopping list. Users should be able to add items,\n",
    "remove items, and display the current list."
   ]
  },
  {
   "cell_type": "code",
   "execution_count": 1,
   "id": "4a2f1b87",
   "metadata": {},
   "outputs": [
    {
     "name": "stdout",
     "output_type": "stream",
     "text": [
      "Enter your items (insert comma after every item): Mango, Orange\n",
      "Enter the item to remove it from the grocery list: Mango\n",
      "[' Orange']\n"
     ]
    }
   ],
   "source": [
    "grocery_lst = []\n",
    "user = input(\"Enter your items (insert comma after every item): \").split(',')\n",
    "\n",
    "for item in user:\n",
    "    grocery_lst.append(item)\n",
    "\n",
    "reassure = input(\"Do you want to delete any item(s) from the list (Y/N): \")\n",
    "\n",
    "if reassure == 'Y':\n",
    "    delete = input(\"Enter the item to remove it from the grocery list: \")\n",
    "    if delete in grocery_lst:\n",
    "        grocery_lst.remove(delete)\n",
    "        print(grocery_lst)\n",
    "    else:\n",
    "        print(f\"{delete} is not in the list.\")\n",
    "else:\n",
    "    print(grocery_lst)"
   ]
  },
  {
   "cell_type": "markdown",
   "id": "222f7235",
   "metadata": {},
   "source": [
    "Scenario 2: Student Grades\n",
    "You are managing student grades using a dictionary. You need to calculate the average grade.take\n",
    "atleast 5 Students grades & then calculate the average."
   ]
  },
  {
   "cell_type": "code",
   "execution_count": 23,
   "id": "5122dd00",
   "metadata": {},
   "outputs": [
    {
     "name": "stdout",
     "output_type": "stream",
     "text": [
      "82.2 is the average marks in Maths\n"
     ]
    }
   ],
   "source": [
    "Maths = {\n",
    "    \"Ali\":78,\n",
    "    \"Qasim\":88,\n",
    "    \"Ahmed\":84,\n",
    "    \"Ashraf\":79,\n",
    "    \"Usman\":82\n",
    "}\n",
    "x = Maths.values()\n",
    "print(f\"{sum(x)/len(x)} is the average marks in Maths\")"
   ]
  },
  {
   "cell_type": "markdown",
   "id": "8ffadbae",
   "metadata": {},
   "source": [
    "Scenario 3: Word Frequency Counter\n",
    "You are given a list of words, and you need to count the frequency of each word.\n",
    "\n",
    "word_list = [\"apple\", \"banana\", \"apple\", \"orange\", \"banana\", \"grape\", \"apple\"]"
   ]
  },
  {
   "cell_type": "code",
   "execution_count": 46,
   "id": "b11b77d5",
   "metadata": {},
   "outputs": [
    {
     "name": "stdout",
     "output_type": "stream",
     "text": [
      "apple: 3\n",
      "banana: 2\n",
      "apple: 1\n",
      "orange: 1\n"
     ]
    }
   ],
   "source": [
    "word_list = [\"apple\", \"banana\", \"apple\", \"orange\", \"banana\", \"grape\", \"apple\"]\n",
    "\n",
    "print(f\"{word_list[0]}: {word_list.count('apple')}\")\n",
    "print(f\"{word_list[1]}: {word_list.count('banana')}\")\n",
    "print(f\"{word_list[2]}: {word_list.count('orange')}\")\n",
    "print(f\"{word_list[3]}: {word_list.count('grape')}\")"
   ]
  },
  {
   "cell_type": "markdown",
   "id": "53ebcd3e",
   "metadata": {},
   "source": [
    "Scenario 4: Password Strength Checker\n",
    "You are creating a program to check the strength of passwords based on certain criteria.\n",
    "\n",
    "• Password should be at least 8 characters long.\n",
    "\n",
    "• Password should contain at least one digit.\n",
    "\n",
    "• Password should contain at least one letter"
   ]
  },
  {
   "cell_type": "code",
   "execution_count": 6,
   "id": "9b4ca49f",
   "metadata": {},
   "outputs": [
    {
     "name": "stdout",
     "output_type": "stream",
     "text": [
      "Create your Password: 98udfg98u8fdgn9834\n",
      "Password meets the criteria.\n"
     ]
    }
   ],
   "source": [
    "user_password = input(\"Create your Password: \")\n",
    "\n",
    "if len(user_password) >= 8:\n",
    "    if not user_password.isdigit():\n",
    "        if not user_password.isalpha():\n",
    "            print(\"Password meets the criteria.\")\n",
    "        else:\n",
    "            print(\"Password should contain at least one digit.\")\n",
    "    else:\n",
    "        print(\"Password should contain at least one letter.\")\n",
    "else:\n",
    "    print(\"Password should be at least 8 characters long.\")"
   ]
  },
  {
   "cell_type": "markdown",
   "id": "01dedb48",
   "metadata": {},
   "source": [
    "Scenario 05: Voting System (Annual Employee Recognition Awards)\n",
    "\n",
    "You are developing a simple voting system for a contest. Users can vote for their Favorite option, and\n",
    "you need to count the votes.\n",
    "\n",
    "In a corporate setting, the HR department is organizing the Annual Employee Recognition Awards,\n",
    "where employees get the opportunity to vote for their colleagues nominated in different categories.\n",
    "The HR team has decided to use a simple voting system to collect and tally votes for the nominees in\n",
    "various award categories. The script provided will be utilized for this purpose.\n",
    "\n",
    "Candidates: The nominees for different award categories, such as \"Employee of the Year,\" \"Team\n",
    "Player of the Year,\" and \"Innovation Award,\" are represented by the list of candidates: 'Candidate A,'\n",
    "'Candidate B,' and 'Candidate C.'\n",
    "\n",
    "Voting Process: Employees are requested to input the number of voters participating in the awards.\n",
    "Each voter is presented with a list of nominees, and they can vote for their preferred candidate by\n",
    "entering the corresponding number.\n",
    "\n",
    "Validation: The script ensures that the entered vote is within the valid range of candidates. If an\n",
    "employee enters an invalid vote, the system prompts them to choose a valid candidate.\n",
    "\n",
    "Recording Votes: The script records each vote for the selected candidate and prints a confirmation\n",
    "message indicating that the vote has been recorded.\n",
    "\n",
    "Results Display: Once all votes are collected, the system displays the voting results, showing the\n",
    "number of votes each candidate received in each category.\n",
    "\n",
    "Award Winners: Based on the voting results, the HR department can identify the winners for each\n",
    "award category and proceed with recognizing and rewarding the selected employees during the\n",
    "Annual Employee Recognition Ceremony.\n",
    "\n",
    "This script provides a straightforward and transparent way for employees to participate in the\n",
    "recognition process, fostering a sense of engagement and community within the organization. The\n",
    "HR team can use the collected votes to acknowledge and appreciate the efforts of outstanding\n",
    "employees in various aspects of their work."
   ]
  },
  {
   "cell_type": "code",
   "execution_count": 32,
   "id": "3ed45314",
   "metadata": {},
   "outputs": [
    {
     "name": "stdout",
     "output_type": "stream",
     "text": [
      "Enter the number of voters: 2\n",
      "There are 2 voters.\n",
      "Voting for Employee of the Year:\n",
      "1.Candidate A\n",
      "2.Candidate B\n",
      "3.Candidate C\n",
      "Select preferred candidate by entering the corresponding number: 3\n",
      "Your vote has been recorded.\n",
      "Voting for Employee of the Year:\n",
      "1.Candidate A\n",
      "2.Candidate B\n",
      "3.Candidate C\n",
      "Select preferred candidate by entering the corresponding number: 3\n",
      "Your vote has been recorded.\n",
      "Voting for Team Player of the Year:\n",
      "1.Candidate A\n",
      "2.Candidate B\n",
      "3.Candidate C\n",
      "Select preferred candidate by entering the corresponding number: 2\n",
      "Your vote has been recorded.\n",
      "Voting for Team Player of the Year:\n",
      "1.Candidate A\n",
      "2.Candidate B\n",
      "3.Candidate C\n",
      "Select preferred candidate by entering the corresponding number: 2\n",
      "Your vote has been recorded.\n",
      "Voting for Innovation Award:\n",
      "1.Candidate A\n",
      "2.Candidate B\n",
      "3.Candidate C\n",
      "Select preferred candidate by entering the corresponding number: 2\n",
      "Your vote has been recorded.\n",
      "Voting for Innovation Award:\n",
      "1.Candidate A\n",
      "2.Candidate B\n",
      "3.Candidate C\n",
      "Select preferred candidate by entering the corresponding number: 1\n",
      "Your vote has been recorded.\n",
      "*************************************************************\n",
      "VOTING RESULTS\n",
      "Employee of the Year\n",
      "Candidate A : 0\n",
      "Candidate B : 0\n",
      "Candidate C : 2\n",
      "Team Player of the Year\n",
      "Candidate A : 0\n",
      "Candidate B : 2\n",
      "Candidate C : 0\n",
      "Innovation Award\n",
      "Candidate A : 1\n",
      "Candidate B : 1\n",
      "Candidate C : 0\n"
     ]
    }
   ],
   "source": [
    "result_employee_of_the_year = []\n",
    "result_team_player_of_the_year = []\n",
    "result_innovation_award = []\n",
    "voters_num = int(input(\"Enter the number of voters: \"))\n",
    "print(f\"There are {voters_num} voters.\")\n",
    "\n",
    "nominees = [\"Candidate A\", \"Candidate B\", \"Candidate C\"]\n",
    "for times in range(voters_num):\n",
    "    print(\"Voting for Employee of the Year:\")\n",
    "    for i, candidate in enumerate(nominees, 1):\n",
    "        print(f\"{i}.{candidate}\")\n",
    "    candidate_index = int(input(\"Select preferred candidate by entering the corresponding number: \"))\n",
    "    if 1<= candidate_index <= 3:\n",
    "        print(\"Your vote has been recorded.\")\n",
    "        result_employee_of_the_year.append(candidate_index)\n",
    "    else:\n",
    "        print(\"Invalid Candidate number.\")\n",
    "        \n",
    "for times in range(voters_num):\n",
    "    print(\"Voting for Team Player of the Year:\")\n",
    "    for i, candidate in enumerate(nominees, 1):\n",
    "        print(f\"{i}.{candidate}\")\n",
    "    candidate_index = int(input(\"Select preferred candidate by entering the corresponding number: \"))\n",
    "    if 1<= candidate_index <= 3:\n",
    "        print(\"Your vote has been recorded.\")\n",
    "        result_team_player_of_the_year.append(candidate_index)\n",
    "    else:\n",
    "        print(\"Invalid Candidate number.\")\n",
    "\n",
    "        \n",
    "for times in range(voters_num):\n",
    "    print(\"Voting for Innovation Award:\")\n",
    "    for i, candidate in enumerate(nominees, 1):\n",
    "        print(f\"{i}.{candidate}\")\n",
    "    candidate_index = int(input(\"Select preferred candidate by entering the corresponding number: \"))\n",
    "    if 1<= candidate_index <= 3:\n",
    "        print(\"Your vote has been recorded.\")\n",
    "        result_innovation_award.append(candidate_index)\n",
    "    else:\n",
    "        print(\"Invalid Candidate number.\")\n",
    "print(\"*************************************************************\")\n",
    "print(\"VOTING RESULTS\")\n",
    "        \n",
    "print(f\"\"\"Employee of the Year\n",
    "Candidate A : {result_employee_of_the_year.count(1)}\n",
    "Candidate B : {result_employee_of_the_year.count(2)}\n",
    "Candidate C : {result_employee_of_the_year.count(3)}\"\"\")\n",
    "\n",
    "print(f\"\"\"Team Player of the Year\n",
    "Candidate A : {result_team_player_of_the_year.count(1)}\n",
    "Candidate B : {result_team_player_of_the_year.count(2)}\n",
    "Candidate C : {result_team_player_of_the_year.count(3)}\"\"\")\n",
    "\n",
    "print(f\"\"\"Innovation Award\n",
    "Candidate A : {result_innovation_award.count(1)}\n",
    "Candidate B : {result_innovation_award.count(2)}\n",
    "Candidate C : {result_innovation_award.count(3)}\"\"\")"
   ]
  }
 ],
 "metadata": {
  "kernelspec": {
   "display_name": "Python 3 (ipykernel)",
   "language": "python",
   "name": "python3"
  },
  "language_info": {
   "codemirror_mode": {
    "name": "ipython",
    "version": 3
   },
   "file_extension": ".py",
   "mimetype": "text/x-python",
   "name": "python",
   "nbconvert_exporter": "python",
   "pygments_lexer": "ipython3",
   "version": "3.11.5"
  }
 },
 "nbformat": 4,
 "nbformat_minor": 5
}
