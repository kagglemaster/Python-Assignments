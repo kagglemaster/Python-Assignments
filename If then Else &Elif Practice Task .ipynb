{
 "cells": [
  {
   "cell_type": "markdown",
   "metadata": {},
   "source": [
    "Q1) A company decided to give bonus of 5% to employee if his/her year of service is more than 5 years.\n",
    "Ask user for their salary and year of service and print the net bonus amount."
   ]
  },
  {
   "cell_type": "code",
   "execution_count": null,
   "metadata": {},
   "outputs": [],
   "source": [
    "salary = int(input(\"Enter your Salary: \"))\n",
    "service = float(input(\"Enter the number of years of service: \"))\n",
    "\n",
    "if service>5:\n",
    "    bonus = 5/100 * salary\n",
    "    print(int(bonus))\n",
    "else:\n",
    "    print(\"Sorry you are not eligible for the bonus\")"
   ]
  },
  {
   "cell_type": "markdown",
   "metadata": {},
   "source": [
    "Q2) Write a program to check whether a person is eligible for voting or not. (accept age from user) if age is greater than 17 eligible otherwise not eligible"
   ]
  },
  {
   "cell_type": "code",
   "execution_count": null,
   "metadata": {},
   "outputs": [],
   "source": [
    "age = int(input(\"Enter your age: \"))\n",
    "\n",
    "if age>17:\n",
    "    print(\"You are eligible to vote.\")\n",
    "else:\n",
    "    print(\"You are ineligible to vote.\")"
   ]
  },
  {
   "cell_type": "markdown",
   "metadata": {},
   "source": [
    "Q3) Write a program to check whether a number entered by user is even or odd."
   ]
  },
  {
   "cell_type": "code",
   "execution_count": null,
   "metadata": {},
   "outputs": [],
   "source": [
    "number = float(input(\"Enter the number:\"))\n",
    "\n",
    "if number%2==0:\n",
    "    print(\"The number is even.\")\n",
    "else:\n",
    "    print(\"The number is odd.\")"
   ]
  },
  {
   "cell_type": "markdown",
   "metadata": {},
   "source": [
    "Q4) Write a program to check whether a number is divisible by 7 or not.\n",
    "Show Answer"
   ]
  },
  {
   "cell_type": "code",
   "execution_count": null,
   "metadata": {},
   "outputs": [],
   "source": [
    "number = int(input(\"Enter the number:\"))\n",
    "\n",
    "if number%7==0:\n",
    "    print(f\"{number} is multiple of seven.\")\n",
    "else:\n",
    "    print(f\"{number} is not a multiple of seven.\")"
   ]
  },
  {
   "cell_type": "markdown",
   "metadata": {},
   "source": [
    "Q5) Write a program to display \"Hello\" if a number entered by user is a multiple of five , otherwise print \"Bye\"."
   ]
  },
  {
   "cell_type": "code",
   "execution_count": null,
   "metadata": {},
   "outputs": [],
   "source": [
    "number = int(input(\"Enter the number:\"))\n",
    "\n",
    "if number%5==0:\n",
    "    print(\"Hello.\")\n",
    "else:\n",
    "    print(\"Bye.\")"
   ]
  },
  {
   "cell_type": "markdown",
   "metadata": {},
   "source": [
    "Q6) Write a program to calculate the electricity bill (accept number of unit from user) according to the following criteria :\n",
    "     Unit                                                     Price  \n",
    "uptp 100 units                                             no charge\n",
    "Next 200 units                                              Rs 5 per unit\n",
    "After 200 units                                             Rs 10 per unit\n",
    "(For example if input unit is 350 than total bill amount is Rs.3500\n",
    "(For example if input unit is 97 than total bill amount is Rs.0\n",
    "(For example if input unit is 150 than total bill amount is Rs.750"
   ]
  },
  {
   "cell_type": "code",
   "execution_count": null,
   "metadata": {},
   "outputs": [],
   "source": [
    "electricity_units = int(input(\"Enter the number of units consumed: \"))\n",
    "\n",
    "if electricity_units<=100:\n",
    "    print(\"No charge.\")\n",
    "elif 100<electricity_units<=300:\n",
    "    print(electricity_units*5)\n",
    "elif electricity_units>300:\n",
    "    print(electricity_units*10)"
   ]
  },
  {
   "cell_type": "markdown",
   "metadata": {},
   "source": [
    "Q7) Write a program to display the last digit of a number."
   ]
  },
  {
   "cell_type": "code",
   "execution_count": null,
   "metadata": {},
   "outputs": [],
   "source": [
    "number = int(input(\"Enter a number: \"))\n",
    "print(number%10)"
   ]
  },
  {
   "cell_type": "markdown",
   "metadata": {},
   "source": [
    "Q8. Write a program to check whether the last digit of a number( entered by user ) is \n",
    "divisible by 3 or not."
   ]
  },
  {
   "cell_type": "code",
   "execution_count": null,
   "metadata": {},
   "outputs": [],
   "source": [
    "number = int(input(\"Enter a number: \"))\n",
    "new_num = number%10\n",
    "is_divisible = new_num%3\n",
    "\n",
    "if is_divisible == 0:\n",
    "    print(f\" {new_num} is divisible by 3\")\n",
    "else:\n",
    "    print(\"Sorry\")"
   ]
  },
  {
   "cell_type": "markdown",
   "metadata": {},
   "source": [
    "Q9) Take values of length and breadth of a rectangle from user and print if it is square or rectangle."
   ]
  },
  {
   "cell_type": "code",
   "execution_count": null,
   "metadata": {},
   "outputs": [],
   "source": [
    "length = int(input(\"Enter the length: \"))\n",
    "width = int(input(\"Enter the width: \"))\n",
    "\n",
    "if length == width:\n",
    "    print(\"Its a sqaure.\")\n",
    "else:\n",
    "    print(\"Its a rectangle.\")"
   ]
  },
  {
   "cell_type": "markdown",
   "metadata": {},
   "source": [
    "Q10) Take two int values from user and print greatest among them."
   ]
  },
  {
   "cell_type": "code",
   "execution_count": null,
   "metadata": {},
   "outputs": [],
   "source": [
    "num_1 = int(input(\"Enter first number: \"))\n",
    "num_2 = int(input(\"Enter second number: \"))\n",
    "\n",
    "if num_1>num_2:\n",
    "    print(f\"{num_1}\")\n",
    "elif num_2>num_1:\n",
    "    print(f\"{num_2}\")"
   ]
  },
  {
   "cell_type": "markdown",
   "metadata": {},
   "source": [
    "Q11) A shop will give discount of 10% if the cost of purchased quantity is more than 1000.\n",
    "Ask user for quantity\n",
    "Suppose, one unit will cost 100.\n",
    "Judge and print total cost for user."
   ]
  },
  {
   "cell_type": "code",
   "execution_count": null,
   "metadata": {},
   "outputs": [],
   "source": [
    "quantity = int(input(\"How much quantity is required? \"))\n",
    "\n",
    "if quantity > 1000:\n",
    "    print(quantity*100)"
   ]
  },
  {
   "cell_type": "markdown",
   "metadata": {},
   "source": [
    "Q12) A school has following rules for grading system:\n",
    "\n",
    "a. Below 25 - F\n",
    "\n",
    "b. 25 to 45 - E\n",
    "\n",
    "c. 45 to 50 - D\n",
    "\n",
    "d. 50 to 60 - C\n",
    "\n",
    "e. 60 to 80 - B\n",
    "\n",
    "f. Above 80 - A\n",
    "\n",
    "Ask user to enter marks and print the corresponding grade."
   ]
  },
  {
   "cell_type": "code",
   "execution_count": null,
   "metadata": {},
   "outputs": [],
   "source": [
    "marks_scored = int(input(\"Enter your marks: \"))\n",
    "\n",
    "if marks_scored<25:\n",
    "    print(\"You got an F.\")\n",
    "elif 25<=marks_scored<=45:\n",
    "    print(\"You got an E.\")\n",
    "elif 45<=marks_scored<=50:\n",
    "    print(\"You got a D.\")\n",
    "elif 50<=marks_scored<=60:\n",
    "    print(\"You got a C.\")\n",
    "elif 60<=marks_scored<=80:\n",
    "    print(\"You got a B.\")\n",
    "elif marks_scored>80:\n",
    "    print(\"You got an A.\")"
   ]
  },
  {
   "cell_type": "markdown",
   "metadata": {},
   "source": [
    "Q13) Take input of age of 3 people by user and determine oldest and youngest among them."
   ]
  },
  {
   "cell_type": "code",
   "execution_count": null,
   "metadata": {},
   "outputs": [],
   "source": [
    "age1 = int(input(\"Enter first age: \"))\n",
    "age2 = int(input(\"Enter second age: \"))\n",
    "age3 = int(input(\"Enter third age: \"))\n",
    "\n",
    "if age1>age2>age3:\n",
    "    print(age1)\n",
    "elif age2>age1>age3:\n",
    "    print(age2)\n",
    "else:\n",
    "    print(age3)"
   ]
  },
  {
   "cell_type": "markdown",
   "metadata": {},
   "source": [
    "Q14) A student will not be allowed to sit in exam if his/her attendence is less than 75%.\n",
    "\n",
    "Take following input from user\n",
    "\n",
    "Number of classes held\n",
    "\n",
    "Number of classes attended.\n",
    "\n",
    "And print\n",
    "\n",
    "percentage of class attended\n",
    "\n",
    "Is student is allowed to sit in exam or not."
   ]
  },
  {
   "cell_type": "code",
   "execution_count": 19,
   "metadata": {},
   "outputs": [],
   "source": [
    "Number_of_classes_held = int(input(\"How many classes were held? \"))\n",
    "Number_of_classes_attended = int(input(\"How many classes were attended by you? \"))\n",
    "percentage_of_attendence = (Number_of_classes_attended/Number_of_classes_held)*100\n",
    "\n",
    "if percentage_of_attendence>75:\n",
    "    print(f\"Your attendance percentage is {round(percentage_of_attendence,2)};you are allowed to sit in exam.\")\n",
    "else:\n",
    "    print(f\"Your attendance percentage is {percentage_of_attendence};you are not allowed to sit in exam.\")"
   ]
  },
  {
   "cell_type": "markdown",
   "metadata": {},
   "source": [
    "Q15) Modify the above question to allow student to sit if he/she has medical cause. Ask user if he/she has medical cause or not \n",
    "( 'Y' or 'N' ) and print accordingly."
   ]
  },
  {
   "cell_type": "code",
   "execution_count": null,
   "metadata": {},
   "outputs": [],
   "source": [
    "medical = input(\"Do you have a medicial cause, (Y/N)? \")\n",
    "\n",
    "if medical==\"Y\":\n",
    "    print(\"you are allowed to sit in exam.\")\n",
    "else:\n",
    "    print(\"You are not allowed to sit in exam\")"
   ]
  },
  {
   "cell_type": "markdown",
   "metadata": {},
   "source": [
    "Q16) Write a program to check if a year is leap year or not.\n",
    "\n",
    "If a year is divisible by 4 then it is leap year but if the year is century year like 2000, 1900, 2100 then it must be divisible by 400."
   ]
  },
  {
   "cell_type": "code",
   "execution_count": null,
   "metadata": {},
   "outputs": [],
   "source": [
    "year = int(input(\"Enter the year: \"))\n",
    "\n",
    "if year%4==0:\n",
    "    print(f\"{year} is a leap year\")\n",
    "else:\n",
    "    print(f\"{year} is not a leap year.\")"
   ]
  },
  {
   "cell_type": "markdown",
   "metadata": {},
   "source": [
    "Q17) Ask user to enter age, gender ( M or F ), marital status ( Y or N ) and then using following rules print their place of service.\n",
    "\n",
    "if employee is female, then she will work only in urban areas.\n",
    "\n",
    "if employee is a male and age is in between 20 to 40 then he may work in anywhere\n",
    "\n",
    "if employee is male and age is in between 40 t0 60 then he will work in urban areas only.\n",
    "\n",
    "And any other input of age should print \"ERROR\""
   ]
  },
  {
   "cell_type": "code",
   "execution_count": null,
   "metadata": {},
   "outputs": [],
   "source": [
    "age = int(input(\"Enter your age: \"))\n",
    "gender = input(\"Enter your gender (M or F): \")\n",
    "martial_status = input(\"What is your martial status (Y/N): \")\n",
    "\n",
    "if gender==\"F\":\n",
    "    print(\"You will only work in urban areas.\")\n",
    "elif gender==\"M\":\n",
    "    if 20<=age<=40:\n",
    "        print(\"You can work anywhere.\")\n",
    "    elif 40<=age<=60:\n",
    "        print(\"You will only work in urban areas.\")\n",
    "else:\n",
    "    print(\"ERROR\")"
   ]
  }
 ],
 "metadata": {
  "kernelspec": {
   "display_name": "Python 3 (ipykernel)",
   "language": "python",
   "name": "python3"
  },
  "language_info": {
   "codemirror_mode": {
    "name": "ipython",
    "version": 3
   },
   "file_extension": ".py",
   "mimetype": "text/x-python",
   "name": "python",
   "nbconvert_exporter": "python",
   "pygments_lexer": "ipython3",
   "version": "3.11.5"
  }
 },
 "nbformat": 4,
 "nbformat_minor": 2
}
